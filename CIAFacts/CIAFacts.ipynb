{
 "cells": [
  {
   "cell_type": "code",
   "execution_count": 2,
   "metadata": {},
   "outputs": [],
   "source": [
    "#Dependencies\n",
    "import json\n",
    "import pandas as pd\n",
    "from pprint import pprint\n",
    "\n",
    "#read in json file\n",
    "file = \"../Resources/ciafactbook.json\"\n",
    "data = open(file, encoding=\"utf8\") \n",
    "  \n",
    "# returns JSON object as  \n",
    "\n",
    "factbook = json.load(data) \n",
    "\n"
   ]
  },
  {
   "cell_type": "code",
   "execution_count": 3,
   "metadata": {},
   "outputs": [
    {
     "data": {
      "text/plain": [
       "dict_keys(['world', 'afghanistan', 'akrotiri', 'albania', 'algeria', 'american_samoa', 'andorra', 'angola', 'anguilla', 'antarctica', 'antigua_and_barbuda', 'arctic_ocean', 'argentina', 'armenia', 'aruba', 'ashmore_and_cartier_islands', 'atlantic_ocean', 'australia', 'austria', 'azerbaijan', 'bahamas_the', 'bahrain', 'bangladesh', 'barbados', 'belarus', 'belgium', 'belize', 'benin', 'bermuda', 'bhutan', 'bolivia', 'bosnia_and_herzegovina', 'botswana', 'bouvet_island', 'brazil', 'british_indian_ocean_territory', 'british_virgin_islands', 'brunei', 'bulgaria', 'burkina_faso', 'burma', 'burundi', 'cabo_verde', 'cambodia', 'cameroon', 'canada', 'cayman_islands', 'central_african_republic', 'chad', 'chile', 'china', 'christmas_island', 'clipperton_island', 'cocos_keeling_islands', 'colombia', 'comoros', 'congo_democratic_republic_of_the', 'congo_republic_of_the', 'cook_islands', 'coral_sea_islands', 'costa_rica', \"cote_d'_ivoire\", 'croatia', 'cuba', 'curacao', 'cyprus', 'czechia', 'denmark', 'dhekelia', 'djibouti', 'dominica', 'dominican_republic', 'ecuador', 'egypt', 'el_salvador', 'equatorial_guinea', 'eritrea', 'estonia', 'eswatini', 'ethiopia', 'falkland_islands_islas_malvinas', 'faroe_islands', 'fiji', 'finland', 'france', 'french_polynesia', 'gabon', 'gambia_the', 'gaza_strip', 'georgia', 'germany', 'ghana', 'gibraltar', 'greece', 'greenland', 'grenada', 'guam', 'guatemala', 'guernsey', 'guinea', 'guinea_bissau', 'guyana', 'haiti', 'heard_island_and_mcdonald_islands', 'holy_see_vatican_city', 'honduras', 'hong_kong', 'hungary', 'iceland', 'india', 'indian_ocean', 'indonesia', 'iran', 'iraq', 'ireland', 'isle_of_man', 'israel', 'italy', 'jamaica', 'jan_mayen', 'japan', 'jersey', 'jordan', 'kazakhstan', 'kenya', 'kiribati', 'korea_north', 'korea_south', 'kosovo', 'kuwait', 'kyrgyzstan', 'laos', 'latvia', 'lebanon', 'lesotho', 'liberia', 'libya', 'liechtenstein', 'lithuania', 'luxembourg', 'macau', 'madagascar', 'malawi', 'malaysia', 'maldives', 'mali', 'malta', 'marshall_islands', 'mauritania', 'mauritius', 'mexico', 'micronesia_federated_states_of', 'moldova', 'monaco', 'mongolia', 'montenegro', 'montserrat', 'morocco', 'mozambique', 'namibia', 'nauru', 'navassa_island', 'nepal', 'netherlands', 'new_caledonia', 'new_zealand', 'nicaragua', 'niger', 'nigeria', 'niue', 'norfolk_island', 'north_macedonia', 'northern_mariana_islands', 'norway', 'oman', 'pacific_ocean', 'pakistan', 'palau', 'panama', 'papua_new_guinea', 'paracel_islands', 'paraguay', 'peru', 'philippines', 'pitcairn_islands', 'poland', 'portugal', 'puerto_rico', 'qatar', 'romania', 'russia', 'rwanda', 'saint_barthelemy', 'saint_helena_ascension_and_tristan_da_cunha', 'saint_kitts_and_nevis', 'saint_lucia', 'saint_martin', 'saint_pierre_and_miquelon', 'saint_vincent_and_the_grenadines', 'samoa', 'san_marino', 'sao_tome_and_principe', 'saudi_arabia', 'senegal', 'serbia', 'seychelles', 'sierra_leone', 'singapore', 'sint_maarten', 'slovakia', 'slovenia', 'solomon_islands', 'somalia', 'south_africa', 'south_georgia_and_south_sandwich_islands', 'south_sudan', 'southern_ocean', 'spain', 'spratly_islands', 'sri_lanka', 'sudan', 'suriname', 'svalbard', 'sweden', 'switzerland', 'syria', 'taiwan', 'tajikistan', 'tanzania', 'thailand', 'timor_leste', 'togo', 'tokelau', 'tonga', 'trinidad_and_tobago', 'tunisia', 'turkey', 'turkmenistan', 'turks_and_caicos_islands', 'tuvalu', 'uganda', 'ukraine', 'united_arab_emirates', 'united_kingdom', 'united_states', 'uruguay', 'uzbekistan', 'vanuatu', 'venezuela', 'vietnam', 'virgin_islands', 'wake_island', 'wallis_and_futuna', 'west_bank', 'western_sahara', 'yemen', 'zambia', 'zimbabwe', 'european_union'])"
      ]
     },
     "execution_count": 3,
     "metadata": {},
     "output_type": "execute_result"
    }
   ],
   "source": [
    "factbook['countries'].keys()"
   ]
  },
  {
   "cell_type": "code",
   "execution_count": 80,
   "metadata": {},
   "outputs": [
    {
     "data": {
      "text/plain": [
       "{'disputes': ['Joint Border Commission with Cameroon reviewed 2002 ICJ ruling on the entire boundary and bilaterally resolved differences, including June 2006 Greentree Agreement that immediately cedes sovereignty of the Bakassi Peninsula to Cameroon with a phaseout of Nigerian control within two years while resolving patriation issues',\n",
       "  'the ICJ ruled on an equidistance settlement of Cameroon-Equatorial Guinea-Nigeria maritime boundary in the Gulf of Guinea, but imprecisely defined coordinates in the ICJ decision and a sovereignty dispute between Equatorial Guinea and Cameroon over an island at the mouth of the Ntem River all contribute to the delay in implementation',\n",
       "  \"only Nigeria and Cameroon have heeded the Lake Chad Commission's admonition to ratify the delimitation treaty which also includes the Chad-Niger and Niger-Nigeria boundaries\",\n",
       "  'location of Benin-Niger-Nigeria tripoint is unresolved'],\n",
       " 'refugees_and_iternally_displaced_persons': {'refugees': {'by_country': [{'people': 44524,\n",
       "     'country_of_origin': 'Cameroon'}],\n",
       "   'date': '2019'},\n",
       "  'internally_displaced_persons': {'people': 2018513,\n",
       "   'note': 'northeast Nigeria; Boko Haram attacks and counterinsurgency efforts in northern Nigeria; communal violence between Christians and Muslims in the middle belt region, political violence; flooding; forced evictions; cattle rustling; competition for resources',\n",
       "   'date': '2019'}},\n",
       " 'illicit_drugs': {'note': \"a transit point for heroin and cocaine intended for European, East Asian, and North American markets; consumer of amphetamines; safe haven for Nigerian narcotraffickers operating worldwide; major money-laundering center; massive corruption and criminal activity; Nigeria has improved some anti-money-laundering controls, resulting in its removal from the Financial Action Task Force's (FATF's) Noncooperative Countries and Territories List in June 2006; Nigeria's anti-money-laundering regime continues to be monitored by FATF\"}}"
      ]
     },
     "execution_count": 80,
     "metadata": {},
     "output_type": "execute_result"
    }
   ],
   "source": [
    "factbook['countries']['nigeria']['data']['transnational_issues']"
   ]
  },
  {
   "cell_type": "code",
   "execution_count": 71,
   "metadata": {},
   "outputs": [
    {
     "data": {
      "text/plain": [
       "59.3"
      ]
     },
     "execution_count": 71,
     "metadata": {},
     "output_type": "execute_result"
    }
   ],
   "source": [
    "factbook['countries']['nigeria']['data']['energy']['electricity']['access']['total_electrification']['value']"
   ]
  },
  {
   "cell_type": "code",
   "execution_count": null,
   "metadata": {},
   "outputs": [],
   "source": [
    "#create [] for each statistic\n",
    "#geography\n",
    "latitude = []\n",
    "longitude = []\n",
    "NSHemi = []\n",
    "EWHemi = []\n",
    "coastline = []\n",
    "borders = []\n",
    "coastpercent = []\n",
    "elevation = []\n",
    "forestpercent = []\n",
    "\n",
    "#demographics\n",
    "dependencyratio= []\n",
    "median_age = []\n",
    "netmigrationrate = []\n",
    "sexratioM2F = []\n",
    "lifeexpentancy = []\n",
    "fertilityrate = []\n",
    "\n",
    "#health and access\n",
    "cleanwateraccess = []\n",
    "sanitationaccess = []\n",
    "obesityrate = []\n",
    "underweightchildren =[]\n",
    "\n",
    "#education\n",
    "literacy = []\n",
    "schoolyears =[]\n",
    "\n",
    "#govern and econ\n",
    "governmenttype = []\n",
    "pppPc = []\n",
    "grosssavings = []\n",
    "unemployment = []\n",
    "belowpoverty = []\n",
    "\n",
    "#misc\n",
    "internetpercent = []\n",
    "electricpercent = []"
   ]
  },
  {
   "cell_type": "code",
   "execution_count": null,
   "metadata": {},
   "outputs": [],
   "source": [
    "#List of keys to explore\n",
    "countries = ['afghanistan', 'akrotiri', 'albania', 'algeria',\n",
    "             'american_samoa', 'andorra', 'angola', 'anguilla', 'antarctica', 'antigua_and_barbuda']\n",
    "for country in countries\n",
    "#geography\n",
    "    append.latitude(factbook['countries'][{country}]['data']['geography']['geographic_coordinates']['latitude']['degrees'])\n",
    "    longitude.append(factbook['countries'][{country}]['data']['geography']['geographic_coordinates']['longitude']['degrees'])\n",
    "    NSHemi.append(factbook['countries'][{country}]['data']['geography']['geographic_coordinates']['latitude']['hemisphere'])\n",
    "    EWHemi.append(factbook['countries'][{country}]['data']['geography']['geographic_coordinates']['longitude']['hemisphere'])\n",
    "    coastline.append(factbook['countries'][{country}]['data']['geography']['coastline']['value'])\n",
    "    borders.append(factbook['countries'][{country}]['data']['geography']['land_boundaries']['total']['value'])\n",
    "    coastpercent.append(coastline / (coastline + borders)\n",
    "    elevation.append(factbook['countries'][{country}]['data']['geography']['elevation']['mean_elevation']['value'])\n",
    "    forestpercent.append(factbook['countries'][{country}]['data']['geography']['land_use']['by_sector']['forest']['value'])\n"
   ]
  },
  {
   "cell_type": "code",
   "execution_count": null,
   "metadata": {},
   "outputs": [],
   "source": []
  },
  {
   "cell_type": "code",
   "execution_count": null,
   "metadata": {},
   "outputs": [],
   "source": [
    "#demographics\n",
    "    dependencyratio= factbook['countries'][{country}]['data']['people']['dependency_ratios']['ratios']['total_dependency_ratio']['value']\n",
    "    median_age = factbook['countries'][{country}]['data']['people']['median_age']\n",
    "    netmigrationrate = factbook['countries'][{country}]['data']['people']['net_migration_rate']['migrants_per_1000_population']\n",
    "    sexratioM2F = factbook['countries'][{country}]['data']['people']['sex_ratio']['total_population']['value']\n",
    "    lifeexpentancy = factbook['countries'][{country}]['data']['people']['life_expectancy_at_birth']['total_population']['value']\n",
    "    fertilityrate = factbook['countries'][{country}]['data']['people']['total_fertility_rate']['children_born_per_woman']\n",
    "#health and access\n",
    "    cleanwateraccess = factbook['countries'][{country}]['data']['people']['drinking_water_source']['improved']['total']['value']\n",
    "    sanitationaccess = factbook['countries'][{country}]['data']['people']['sanitation_facility_access']['improved']['total']['value']\n",
    "    obesityrate = factbook['countries'][{country}]['data']['people']['adult_obesity']['percent_of_adults']\n",
    "    underweightchildren = factbook['countries'][{country}]['data']['people']['underweight_children']['percent_of_children_under_the_age_of_five']\n",
    "#education\n",
    "    literacy = factbook['countries'][{country}]['data']['people']['literacy']['total_population']['value']\n",
    "    schoolyears = factbook['countries'][{country}]['data']['people']['school_life_expectancy']['total']['value']\n",
    "#govern and econ\n",
    "    governmenttype = factbook['countries'][{country}]['data']['government']['government_type']\n",
    "    pppPc = factbook['countries'][{country}]['data']['economy']['gdp']['per_capita_purchasing_power_parity']['annual_values'][0]['value']\n",
    "    grosssavings = factbook['countries'][{country}]['data']['economy']['gross_national_saving']['annual_values'][0]['value']\n",
    "    unemployment = factbook['countries'][{country}]['data']['economy']['unemployment_rate']['annual_values'][0]['value']\n",
    "    belowpoverty = factbook['countries'][{country}]['data']['economy']['population_below_poverty_line']['value']\n",
    "#misc\n",
    "    internetpercent = factbook['countries'][{country}]['data']['communications']['internet']['users']['percent_of_population']\n",
    "    electricpercent = factbook['countries'][{country}]['data']['energy']['electricity']['access']['total_electrification']['value']"
   ]
  }
 ],
 "metadata": {
  "kernelspec": {
   "display_name": "Python 3",
   "language": "python",
   "name": "python3"
  },
  "language_info": {
   "codemirror_mode": {
    "name": "ipython",
    "version": 3
   },
   "file_extension": ".py",
   "mimetype": "text/x-python",
   "name": "python",
   "nbconvert_exporter": "python",
   "pygments_lexer": "ipython3",
   "version": "3.7.6"
  }
 },
 "nbformat": 4,
 "nbformat_minor": 2
}
